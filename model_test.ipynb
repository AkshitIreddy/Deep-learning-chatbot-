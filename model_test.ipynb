{
 "cells": [
  {
   "cell_type": "code",
   "execution_count": 1,
   "id": "c2ffc2b3",
   "metadata": {},
   "outputs": [],
   "source": [
    "#Make the neccasary imports\n",
    "import json\n",
    "import numpy as np\n",
    "import pickle\n",
    "import random\n",
    "import tensorflow\n",
    "from sklearn.preprocessing import LabelEncoder"
   ]
  },
  {
   "cell_type": "code",
   "execution_count": 2,
   "id": "354480be",
   "metadata": {},
   "outputs": [],
   "source": [
    "#Load the data\n",
    "with open(\"intents.json\") as f :\n",
    "    dataset = json.load(f)\n",
    "\n",
    "#Load the tokenizer\n",
    "with open('tokenizer.pickle', 'rb') as f:\n",
    "    tokenizer = pickle.load(f)\n",
    "\n",
    "#Load the label_encoder\n",
    "with open('label_encoder.pickle', 'rb') as f:\n",
    "    label_encoder = pickle.load(f)\n",
    "\n",
    "#Load the model\n",
    "model = tensorflow.keras.models.load_model('chatbot_model')"
   ]
  },
  {
   "cell_type": "code",
   "execution_count": 3,
   "id": "8298c8c6",
   "metadata": {},
   "outputs": [
    {
     "name": "stdout",
     "output_type": "stream",
     "text": [
      "chatbot => Hello, If you feel sick or have been injured and need some advise on what to do you can ask me.\n",
      "\n",
      "user => \n",
      "i think i caught a cold, what should i do?\n",
      "\n",
      "chatbot => \n",
      "1)Keeping hydrated is absolutely vital to help 'flush' out the cold, as well as to break down congestion and keep your throat lubricated. 2)Vitamin C is extremely helpful when fighting infection, so at the first sign of a cold be sure to increase your intake by eating plenty of berries, citrus fruits, papayas, broccoli and red peppers which will help keep you protected. 3)When it comes to combating a cold,Vitamin D is essential in helping to regulate immune response. \n",
      "\n",
      "user => \n",
      "i feel like have a headache too\n",
      "\n",
      "chatbot => \n",
      "Give ibuprofen (Advil, Motrin), aspirin, or acetaminophen (Tylenol) for pain. Avoid ibuprofen and other NSAIDs if the person has heart failure or kidney failure. Do not give aspirin to a child under age 18. \n",
      "\n",
      "user => \n",
      "i think i have a fever too\n",
      "\n",
      "chatbot => \n",
      "To treat a fever at home: 1)Drink plenty of fluids to stay hydrated. 2)Dress in lightweight clothing. 3)Use a light blanket if you feel chilled, until the chills end. 4)Take acetaminophen (Tylenol, others) or ibuprofen (Advil, Motrin IB, others). 5) Get medical help if the fever lasts more than five days in a row. \n",
      "\n",
      "user => \n",
      "thanks for you help\n",
      "\n",
      "chatbot => \n",
      "My pleasure \n",
      "\n",
      "user => \n",
      "bye\n",
      "\n",
      "chatbot => \n",
      "Bye! Come back again \n",
      "\n"
     ]
    }
   ],
   "source": [
    "def chat():\n",
    "    chat = True\n",
    "    print(\"chatbot => Hello, If you feel sick or have been injured and need some advise on what to do you can ask me.\\n\")\n",
    "    while chat == True :\n",
    "        #Take input from user\n",
    "        print(\"user => \")\n",
    "        user = input()\n",
    "        \n",
    "        #Predict the tag of the input given by user\n",
    "        chatbot = model.predict(tensorflow.keras.preprocessing.sequence.pad_sequences(tokenizer.texts_to_sequences([user]),truncating='post', maxlen= 20))\n",
    "        tag = label_encoder.inverse_transform([np.argmax(chatbot)])\n",
    "        \n",
    "        #Match the found tag to the response for that tag\n",
    "        for intent in dataset[\"intents\"] :\n",
    "            if tag == intent[\"tag\"]:\n",
    "                print(\"\\nchatbot => \")\n",
    "                length = len(intent[\"responses\"])\n",
    "                print(intent[\"responses\"][random.randint(0 , length - 1)],\"\\n\")\n",
    "                #If tag is goodbye then end the chat\n",
    "                if tag == \"goodbye\":\n",
    "                    chat = False\n",
    "\n",
    "chat()"
   ]
  }
 ],
 "metadata": {
  "kernelspec": {
   "display_name": "Python 3 (ipykernel)",
   "language": "python",
   "name": "python3"
  },
  "language_info": {
   "codemirror_mode": {
    "name": "ipython",
    "version": 3
   },
   "file_extension": ".py",
   "mimetype": "text/x-python",
   "name": "python",
   "nbconvert_exporter": "python",
   "pygments_lexer": "ipython3",
   "version": "3.9.7"
  }
 },
 "nbformat": 4,
 "nbformat_minor": 5
}
